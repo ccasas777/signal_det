{
 "cells": [
  {
   "cell_type": "code",
   "execution_count": 1,
   "id": "b4589b7c",
   "metadata": {},
   "outputs": [],
   "source": [
    "import numpy as np\n",
    "import os\n",
    "import argparse\n",
    "from tqdm import tqdm\n",
    "from matplotlib import pyplot as plt\n",
    "import random\n",
    "import sys\n",
    "from pathlib import Path\n",
    "from scipy.signal import butter, lfilter\n",
    "\n",
    "import json\n",
    "import commentjson\n",
    "import pickle\n",
    "import scipy.io as sio\n",
    "from pathlib import Path\n",
    "import numpy as np\n",
    "        "
   ]
  },
  {
   "cell_type": "code",
   "execution_count": 2,
   "id": "cda9d0d7",
   "metadata": {},
   "outputs": [],
   "source": [
    "def parse_txt(text_lines):\n",
    "    time, ch1, ch2 = [], [], []\n",
    "    for i, line in enumerate(text_lines):\n",
    "        if i < 6:\n",
    "            continue\n",
    "        line = line.split(\"; \")\n",
    "        try:\n",
    "            time.append(float(line[0]))\n",
    "            ch1.append(float(line[1]))\n",
    "            ch2.append(float(line[2]))\n",
    "        except:\n",
    "            print(\"End line at {} \".format(i))\n",
    "            break\n",
    "    return np.asarray(time), np.asarray(ch1), np.asarray(ch2)\n",
    "\n",
    "def load_text(path):\n",
    "    with open(path) as f:\n",
    "        return [l.replace(\"\\n\", \"\") for l in f.readlines()]\n",
    "    \n",
    "def cyc_searching (data,window):\n",
    "    temp_max =0 ;\n",
    "    i=0\n",
    "    ind_min= 0;\n",
    "    ind_max=0;\n",
    "    A = data[0:window];\n",
    "    B = data[window+1:2*window+1];\n",
    "    if((np.max(B)-np.max(A))>0):\n",
    "        direct =\"up\";\n",
    "    else:\n",
    "        direct = \"down\"\n",
    "    collect = []\n",
    "    while(1):\n",
    "        A = data[i:i+window];\n",
    "        B = data[i+window+1:i+2*window+1];\n",
    "        if ((np.max(B)-np.max(A)) == 0): i=i+window;\n",
    "        if(direct == \"up\"):\n",
    "            #start collect\n",
    "            if((np.max(B)-np.max(A))>0):       \n",
    "                i=i+window;\n",
    "                if((i+2*window+1)>len(data)): return collect;\n",
    "            else:            \n",
    "                ind_max=i+np.argmax(A)\n",
    "                direct = \"down\";\n",
    "                \n",
    "        if(direct == \"down\"):        \n",
    "            if((np.min(A)- np.min(B))>0):\n",
    "                i=i+window;\n",
    "                if((i+2*window+1)>len(data)): return  collect;\n",
    "            else:\n",
    "                ind_min=i+np.argmin(A)\n",
    "                collect.append([ind_max,ind_min])\n",
    "                direct = \"up\""
   ]
  },
  {
   "cell_type": "code",
   "execution_count": 3,
   "id": "39630fd0",
   "metadata": {},
   "outputs": [],
   "source": [
    "#generate data\n",
    "data_path = \"../data/meas_scope_20210823.txt\"\n",
    "time, raw_data, triangle_waves = parse_txt(load_text(data_path))\n",
    "root_dir = os.path.split(data_path)[0]\n",
    "\n"
   ]
  },
  {
   "cell_type": "code",
   "execution_count": 4,
   "id": "0b667ed4",
   "metadata": {},
   "outputs": [
    {
     "name": "stdout",
     "output_type": "stream",
     "text": [
      "get  29  cycles\n"
     ]
    }
   ],
   "source": [
    "window = 5000\n",
    "pzt_ind = cyc_searching(triangle_waves,window)\n",
    "\n",
    "print(\"get \",len(pzt_ind),\" cycles\")"
   ]
  },
  {
   "cell_type": "code",
   "execution_count": 5,
   "id": "42c7aa79",
   "metadata": {},
   "outputs": [
    {
     "data": {
      "text/plain": [
       "[[119496, 260101],\n",
       " [400687, 541377],\n",
       " [681949, 822650],\n",
       " [963225, 1103915],\n",
       " [1244472, 1385157],\n",
       " [1525730, 1666394],\n",
       " [1807048, 1947530],\n",
       " [2088290, 2228894],\n",
       " [2369490, 2510139],\n",
       " [2650736, 2791416],\n",
       " [2931963, 3072603],\n",
       " [3213291, 3353969],\n",
       " [3494489, 3635113],\n",
       " [3775834, 3916298],\n",
       " [4056907, 4197578],\n",
       " [4338238, 4478929],\n",
       " [4619632, 4760190],\n",
       " [4900720, 5041305],\n",
       " [5182099, 5322578],\n",
       " [5463230, 5603928],\n",
       " [5744624, 5885145],\n",
       " [6025744, 6166381],\n",
       " [6307023, 6447645],\n",
       " [6588315, 6728892],\n",
       " [6869451, 7010011],\n",
       " [7150637, 7291425],\n",
       " [7431953, 7572668],\n",
       " [7713228, 7853861],\n",
       " [7994484, 8135145]]"
      ]
     },
     "execution_count": 5,
     "metadata": {},
     "output_type": "execute_result"
    }
   ],
   "source": [
    "pzt_ind"
   ]
  },
  {
   "cell_type": "markdown",
   "id": "d2e6c11b",
   "metadata": {},
   "source": [
    "# Load 柏安 signal-det"
   ]
  },
  {
   "cell_type": "code",
   "execution_count": 6,
   "id": "56809fbc",
   "metadata": {},
   "outputs": [],
   "source": [
    "signal_det_path = \"../data/det_idxs.npy\"\n",
    "det_peaks= np.load(signal_det_path )"
   ]
  },
  {
   "cell_type": "markdown",
   "id": "f63cb3cd",
   "metadata": {},
   "source": [
    "# Simulator"
   ]
  },
  {
   "cell_type": "code",
   "execution_count": 7,
   "id": "40b5729e",
   "metadata": {},
   "outputs": [],
   "source": [
    "def package_generator(pzt_ind, det_peaks):\n",
    "    ds_gen = []\n",
    "    for num in range(len(pzt_ind)):\n",
    "        \n",
    "        first_ind = pzt_ind[num][0]\n",
    "        final_ind = pzt_ind[num][1]        \n",
    "        tmp_peaks=[]\n",
    "        for peak in det_peaks:\n",
    "            if ((peak>first_ind) & (peak < final_ind)):\n",
    "                tmp_peaks.append((peak-first_ind))\n",
    "                \n",
    "        ds_gen.append(tmp_peaks)\n",
    "        \n",
    "    return ds_gen\n",
    "    \n",
    "def create_peaks(ds,size):\n",
    "    vs = np.zeros(size)\n",
    "    i=0;\n",
    "    for i in range(len(ds)):        \n",
    "        vs[ds[i]] = 1        \n",
    "    return vs"
   ]
  },
  {
   "cell_type": "code",
   "execution_count": 8,
   "id": "719a05c9",
   "metadata": {},
   "outputs": [],
   "source": [
    "# A simulator for SSF test, like a real-time data input\n",
    "ds_gen = package_generator(pzt_ind,det_peaks)"
   ]
  },
  {
   "cell_type": "markdown",
   "id": "f424e525",
   "metadata": {},
   "source": [
    "# Programming SSF"
   ]
  },
  {
   "cell_type": "code",
   "execution_count": 9,
   "id": "4f00c6a9",
   "metadata": {},
   "outputs": [],
   "source": [
    "# at t\n",
    "# ds(t) = ds_gen[t]\n",
    "# ds 資料結構: (one scan)\n",
    "# \n",
    "#  [ x1,x2,x3,x4.... ] \n",
    "#\n",
    "# comb space 需有上下限\n",
    "# in the case, I supposed 5000(up) and 1000(down)\n",
    "#\n",
    "#\n",
    "#  state = [x, x_var, c, c_var]\n",
    "#  x     = offest point(initial point)\n",
    "#  x_var = variance of x\n",
    "#  c     = comb space\n",
    "#  c_var = variance of comb space\n",
    "#"
   ]
  },
  {
   "cell_type": "code",
   "execution_count": 10,
   "id": "c412d6a6",
   "metadata": {},
   "outputs": [],
   "source": [
    "class SSF:\n",
    "    def __init__(self,x0,combspace,size):\n",
    "        self.x0 = x0\n",
    "        self.x0_var = 0xffff\n",
    "        self.x = np.arange(x0,size,combspace)\n",
    "        self.x_active = np.zeros(len(self.x))\n",
    "        self.x_var = np.ones(len(self.x))*0xff\n",
    "        self.c = combspace\n",
    "        self.c_var = 500\n",
    "        self.ds =[]\n",
    "        self.size =size\n",
    "        self.start =0\n",
    "    def predict(self):\n",
    "        ##################\n",
    "        #\n",
    "        # To do : how to predict the state of x and c\n",
    "        #\n",
    "        ######################\n",
    "        if (self.start):\n",
    "            up_lim = 5000\n",
    "            down_lim = 1000\n",
    "            delta = 0\n",
    "            c = []\n",
    "            c_ave =0\n",
    "            x0_ave = 0\n",
    "            c_std =0\n",
    "            x0_std = 0\n",
    "            for i in range(len(self.x)-1):\n",
    "                if(self.x_active[i]):    \n",
    "                    #self.x_active[i] = 0\n",
    "                    for j in range(len(self.x)-1 - i):\n",
    "                        if(self.x_active[i+j+1]):  \n",
    "                            #self.x_active[i+j+1] =0\n",
    "                            delta = self.x[i+j+1] - self.x[i]\n",
    "                            if ((delta > down_lim) & (delta <up_lim)):\n",
    "                                c.append(delta)\n",
    "\n",
    "\n",
    "\n",
    "\n",
    "            c_ave = round(np.average(c))\n",
    "            c_std = round(np.std(c))\n",
    "            x0 =[] \n",
    "            for i in range(len(self.x)):\n",
    "                if(self.x_active[i]):\n",
    "                    x = self.x[i]\n",
    "                    while(x>c_ave):\n",
    "                        x = x - c_ave\n",
    "                    x0.append(x)\n",
    "            x0_ave = round(np.average(x0))       \n",
    "            x0_std = round(np.std(x0))\n",
    "\n",
    "            if((x0_ave !=0) & (c_ave !=0)):\n",
    "                self.x0 = x0_ave\n",
    "                self.x0_var = x0_std \n",
    "                self.x = np.arange(self.x0,self.size,c_ave)\n",
    "                self.c = c_ave\n",
    "                self.c_var = c_std\n",
    "                #not sure whether need to reset that\n",
    "                self.x_active = np.zeros(len(self.x))\n",
    "                return 1\n",
    "        return 0\n",
    "        \n",
    "        \n",
    "    def get_measu (self,ds):\n",
    "        self.ds=ds\n",
    "        \n",
    "    \n",
    "    def update(self,window):\n",
    "        search_zone = 5\n",
    "        ds_var = 20\n",
    "        update_count=0\n",
    "        self.start = 1\n",
    "        for i in range(len(self.ds)):\n",
    "            # find near peaks of prediction: \n",
    "            # warning: 如果剛好在正中間，選小的\n",
    "            \n",
    "            near_pt = round((self.ds[i]-self.x0)/self.c)\n",
    "            \n",
    "            ans = []\n",
    "            for j in range(len(self.x)):\n",
    "                delta = abs(self.ds[i]-self.x[j])\n",
    "                ans.append(delta)\n",
    "            min_delta = min(ans)    \n",
    "            near_pt = ans.index(min_delta)\n",
    "            if( min_delta  < window):                \n",
    "                self.x_active[near_pt] = 1\n",
    "                self.x[near_pt] = round((self.x[near_pt] * self.x_var[near_pt] + self.ds[i]* ds_var )/(self.x_var[near_pt] + ds_var ))\n",
    "                self.x_var[near_pt] = round( 1/(1/self.x_var[near_pt]+1/ds_var)) + random.random()*30 #add dither\n",
    "                update_count = update_count +1\n",
    "        #print('active',sum(self.x_active),len(self.ds))\n",
    "        return update_count\n",
    "    \n",
    "    def create_predict_peaks(self,size):\n",
    "        vs = np.zeros(size)\n",
    "        i=0;\n",
    "        vs[self.x0] =1\n",
    "        for i in range(len(self.x)):           \n",
    "            vs[self.x] = 1\n",
    "        return vs"
   ]
  },
  {
   "cell_type": "code",
   "execution_count": 11,
   "id": "ec829c39",
   "metadata": {},
   "outputs": [
    {
     "name": "stdout",
     "output_type": "stream",
     "text": [
      "round 0 1500 3000\n",
      "round 1 1261 3012\n",
      "round 2 1190 3064\n",
      "round 3 2017 3010\n",
      "round 4 1746 3507\n",
      "round 5 1688 3513\n",
      "round 6 1437 3540\n",
      "round 7 1360 3540\n",
      "round 8 1553 3572\n",
      "round 9 1598 3683\n"
     ]
    }
   ],
   "source": [
    "#initialize...\n",
    "u = SSF(1500,3000,150000)\n",
    "\n",
    "# assign round n\n",
    "n=10\n",
    "for i in range(n):\n",
    "    u.predict()\n",
    "    u.get_measu(ds_gen[n])\n",
    "    u.update(3000)\n",
    "    print(\"round\",i,u.x0,u.c)\n",
    "\n"
   ]
  },
  {
   "cell_type": "code",
   "execution_count": 12,
   "id": "3cfcf366",
   "metadata": {},
   "outputs": [
    {
     "data": {
      "image/png": "[encoded data removed]",
      "text/plain": [
       "<Figure size 1440x432 with 1 Axes>"
      ]
     },
     "metadata": {
      "needs_background": "light"
     },
     "output_type": "display_data"
    }
   ],
   "source": [
    "data_len = 150000\n",
    "x= np.arange(0, data_len,1)\n",
    "f = plt.figure()\n",
    "f.set_figwidth(20)\n",
    "f.set_figheight(6)\n",
    "plt.axhline(y=n+1, color='r', linestyle='-')\n",
    "vs = u.create_predict_peaks(data_len)\n",
    "plt.plot(x,vs*(n+1),alpha = 0.5)\n",
    "for num in range(n+2):\n",
    "    y = create_peaks(ds_gen[num],data_len) *(num+1)\n",
    "    plt.plot(x,y, 'o')   "
   ]
  },
  {
   "cell_type": "code",
   "execution_count": 13,
   "id": "48ff0ce6",
   "metadata": {},
   "outputs": [
    {
     "name": "stdout",
     "output_type": "stream",
     "text": [
      "round 0 1500 3000\n",
      "round 1 1188 3012\n",
      "round 2 1843 3065\n",
      "round 3 2338 3150\n",
      "round 4 897 3243\n",
      "round 5 1581 3215\n",
      "round 6 1733 3208\n",
      "round 7 1885 3202\n",
      "round 8 2236 3187\n",
      "round 9 2286 3185\n",
      "round 10 2015 3196\n",
      "round 11 1865 3202\n",
      "round 12 2046 3195\n",
      "round 13 2206 3188\n",
      "round 14 2499 3176\n",
      "round 15 2573 3173\n",
      "round 16 2536 3174\n",
      "round 17 2421 3179\n",
      "round 18 2012 3196\n",
      "round 19 1881 3202\n"
     ]
    },
    {
     "data": {
      "image/png": "[encoded data removed]",
      "text/plain": [
       "<Figure size 1440x432 with 1 Axes>"
      ]
     },
     "metadata": {
      "needs_background": "light"
     },
     "output_type": "display_data"
    }
   ],
   "source": [
    "#initialize...\n",
    "u = SSF(1500,3000,150000)\n",
    "\n",
    "# assign round n\n",
    "n=20\n",
    "for i in range(n):\n",
    "    u.predict()\n",
    "    u.get_measu(ds_gen[n])\n",
    "    u.update(3000)\n",
    "    print(\"round\",i,u.x0,u.c)\n",
    "    \n",
    "data_len = 150000\n",
    "x= np.arange(0, data_len,1)\n",
    "f = plt.figure()\n",
    "f.set_figwidth(20)\n",
    "f.set_figheight(6)\n",
    "plt.axhline(y=n+1, color='r', linestyle='-')\n",
    "vs = u.create_predict_peaks(data_len)\n",
    "plt.plot(x,vs*(n+1),alpha = 0.5)\n",
    "for num in range(n+2):\n",
    "    y = create_peaks(ds_gen[num],data_len) *(num+1)\n",
    "    plt.plot(x,y, 'o')   "
   ]
  },
  {
   "cell_type": "code",
   "execution_count": 14,
   "id": "948b9f2c",
   "metadata": {},
   "outputs": [
    {
     "data": {
      "image/png": "[encoded data removed]",
      "text/plain": [
       "<Figure size 1440x432 with 1 Axes>"
      ]
     },
     "metadata": {
      "needs_background": "light"
     },
     "output_type": "display_data"
    }
   ],
   "source": [
    "#initialize...\n",
    "u = SSF(1500,3000,150000)\n",
    "\n",
    "# assign round n\n",
    "n=27\n",
    "for i in range(n):\n",
    "    u.predict()\n",
    "    u.get_measu(ds_gen[n])\n",
    "    u.update(3000)\n",
    "    \n",
    "data_len = 150000\n",
    "x= np.arange(0, data_len,1)\n",
    "f = plt.figure()\n",
    "f.set_figwidth(20)\n",
    "f.set_figheight(6)\n",
    "plt.axhline(y=n+1, color='r', linestyle='-')\n",
    "vs = u.create_predict_peaks(data_len)\n",
    "plt.plot(x,vs*(n+1),alpha = 0.5)\n",
    "for num in range(n+2):\n",
    "    y = create_peaks(ds_gen[num],data_len) *(num+1)\n",
    "    plt.plot(x,y, 'o')   "
   ]
  },
  {
   "cell_type": "code",
   "execution_count": null,
   "id": "2ce330be",
   "metadata": {},
   "outputs": [],
   "source": []
  }
 ],
 "metadata": {
  "kernelspec": {
   "display_name": "Python 3 (ipykernel)",
   "language": "python",
   "name": "python3"
  },
  "language_info": {
   "codemirror_mode": {
    "name": "ipython",
    "version": 3
   },
   "file_extension": ".py",
   "mimetype": "text/x-python",
   "name": "python",
   "nbconvert_exporter": "python",
   "pygments_lexer": "ipython3",
   "version": "3.8.15"
  }
 },
 "nbformat": 4,
 "nbformat_minor": 5
}
